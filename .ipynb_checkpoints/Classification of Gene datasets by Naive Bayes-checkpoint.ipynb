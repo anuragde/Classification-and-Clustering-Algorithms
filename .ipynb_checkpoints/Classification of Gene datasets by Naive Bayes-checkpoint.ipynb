{
 "cells": [
  {
   "cell_type": "code",
   "execution_count": 3,
   "metadata": {
    "collapsed": true
   },
   "outputs": [],
   "source": [
    "import pandas as pd\n",
    "import math"
   ]
  },
  {
   "cell_type": "code",
   "execution_count": 4,
   "metadata": {
    "collapsed": true
   },
   "outputs": [],
   "source": [
    "import numpy as np"
   ]
  },
  {
   "cell_type": "code",
   "execution_count": 5,
   "metadata": {
    "collapsed": true
   },
   "outputs": [],
   "source": [
    "from sklearn import preprocessing\n",
    "from sklearn.preprocessing import MinMaxScaler"
   ]
  },
  {
   "cell_type": "code",
   "execution_count": 6,
   "metadata": {
    "collapsed": true
   },
   "outputs": [],
   "source": [
    "filename = \"project3_dataset1.txt\""
   ]
  },
  {
   "cell_type": "code",
   "execution_count": 7,
   "metadata": {
    "collapsed": true
   },
   "outputs": [],
   "source": [
    "data_set = pd.read_csv(filename,sep = '\\t',header = None,nrows = 1)\n",
    "columns = data_set.columns.tolist()\n",
    "cols_to_use = columns[:len(columns)]\n",
    "default_class_label = pd.read_csv(filename,sep = '\\t',header = None,usecols=columns[len(columns)-1 : ])\n",
    "data_set = pd.read_csv(filename,sep = '\\t',header = None,usecols=cols_to_use)"
   ]
  },
  {
   "cell_type": "code",
   "execution_count": 8,
   "metadata": {},
   "outputs": [
    {
     "data": {
      "text/html": [
       "<div>\n",
       "<style>\n",
       "    .dataframe thead tr:only-child th {\n",
       "        text-align: right;\n",
       "    }\n",
       "\n",
       "    .dataframe thead th {\n",
       "        text-align: left;\n",
       "    }\n",
       "\n",
       "    .dataframe tbody tr th {\n",
       "        vertical-align: top;\n",
       "    }\n",
       "</style>\n",
       "<table border=\"1\" class=\"dataframe\">\n",
       "  <thead>\n",
       "    <tr style=\"text-align: right;\">\n",
       "      <th></th>\n",
       "      <th>0</th>\n",
       "      <th>1</th>\n",
       "      <th>2</th>\n",
       "      <th>3</th>\n",
       "      <th>4</th>\n",
       "      <th>5</th>\n",
       "      <th>6</th>\n",
       "      <th>7</th>\n",
       "      <th>8</th>\n",
       "      <th>9</th>\n",
       "      <th>...</th>\n",
       "      <th>21</th>\n",
       "      <th>22</th>\n",
       "      <th>23</th>\n",
       "      <th>24</th>\n",
       "      <th>25</th>\n",
       "      <th>26</th>\n",
       "      <th>27</th>\n",
       "      <th>28</th>\n",
       "      <th>29</th>\n",
       "      <th>30</th>\n",
       "    </tr>\n",
       "  </thead>\n",
       "  <tbody>\n",
       "    <tr>\n",
       "      <th>0</th>\n",
       "      <td>20.13</td>\n",
       "      <td>28.25</td>\n",
       "      <td>131.20</td>\n",
       "      <td>1261.0</td>\n",
       "      <td>0.0978</td>\n",
       "      <td>0.1034</td>\n",
       "      <td>0.14400</td>\n",
       "      <td>0.09791</td>\n",
       "      <td>0.1752</td>\n",
       "      <td>0.05533</td>\n",
       "      <td>...</td>\n",
       "      <td>38.25</td>\n",
       "      <td>155.00</td>\n",
       "      <td>1731.0</td>\n",
       "      <td>0.1166</td>\n",
       "      <td>0.1922</td>\n",
       "      <td>0.3215</td>\n",
       "      <td>0.16280</td>\n",
       "      <td>0.2572</td>\n",
       "      <td>0.06637</td>\n",
       "      <td>1</td>\n",
       "    </tr>\n",
       "    <tr>\n",
       "      <th>1</th>\n",
       "      <td>12.45</td>\n",
       "      <td>15.70</td>\n",
       "      <td>82.57</td>\n",
       "      <td>477.1</td>\n",
       "      <td>0.1278</td>\n",
       "      <td>0.1700</td>\n",
       "      <td>0.15780</td>\n",
       "      <td>0.08089</td>\n",
       "      <td>0.2087</td>\n",
       "      <td>0.07613</td>\n",
       "      <td>...</td>\n",
       "      <td>23.75</td>\n",
       "      <td>103.40</td>\n",
       "      <td>741.6</td>\n",
       "      <td>0.1791</td>\n",
       "      <td>0.5249</td>\n",
       "      <td>0.5355</td>\n",
       "      <td>0.17410</td>\n",
       "      <td>0.3985</td>\n",
       "      <td>0.12440</td>\n",
       "      <td>1</td>\n",
       "    </tr>\n",
       "    <tr>\n",
       "      <th>2</th>\n",
       "      <td>11.26</td>\n",
       "      <td>19.96</td>\n",
       "      <td>73.72</td>\n",
       "      <td>394.1</td>\n",
       "      <td>0.0802</td>\n",
       "      <td>0.1181</td>\n",
       "      <td>0.09274</td>\n",
       "      <td>0.05588</td>\n",
       "      <td>0.2595</td>\n",
       "      <td>0.06233</td>\n",
       "      <td>...</td>\n",
       "      <td>22.33</td>\n",
       "      <td>78.27</td>\n",
       "      <td>437.6</td>\n",
       "      <td>0.1028</td>\n",
       "      <td>0.1843</td>\n",
       "      <td>0.1546</td>\n",
       "      <td>0.09314</td>\n",
       "      <td>0.2955</td>\n",
       "      <td>0.07009</td>\n",
       "      <td>0</td>\n",
       "    </tr>\n",
       "  </tbody>\n",
       "</table>\n",
       "<p>3 rows × 31 columns</p>\n",
       "</div>"
      ],
      "text/plain": [
       "      0      1       2       3       4       5        6        7       8   \\\n",
       "0  20.13  28.25  131.20  1261.0  0.0978  0.1034  0.14400  0.09791  0.1752   \n",
       "1  12.45  15.70   82.57   477.1  0.1278  0.1700  0.15780  0.08089  0.2087   \n",
       "2  11.26  19.96   73.72   394.1  0.0802  0.1181  0.09274  0.05588  0.2595   \n",
       "\n",
       "        9  ...     21      22      23      24      25      26       27  \\\n",
       "0  0.05533 ...  38.25  155.00  1731.0  0.1166  0.1922  0.3215  0.16280   \n",
       "1  0.07613 ...  23.75  103.40   741.6  0.1791  0.5249  0.5355  0.17410   \n",
       "2  0.06233 ...  22.33   78.27   437.6  0.1028  0.1843  0.1546  0.09314   \n",
       "\n",
       "       28       29  30  \n",
       "0  0.2572  0.06637   1  \n",
       "1  0.3985  0.12440   1  \n",
       "2  0.2955  0.07009   0  \n",
       "\n",
       "[3 rows x 31 columns]"
      ]
     },
     "execution_count": 8,
     "metadata": {},
     "output_type": "execute_result"
    }
   ],
   "source": [
    "data_set.head(3)"
   ]
  },
  {
   "cell_type": "code",
   "execution_count": 9,
   "metadata": {},
   "outputs": [
    {
     "data": {
      "text/plain": [
       "569"
      ]
     },
     "execution_count": 9,
     "metadata": {},
     "output_type": "execute_result"
    }
   ],
   "source": [
    "len(data_set)"
   ]
  },
  {
   "cell_type": "markdown",
   "metadata": {},
   "source": [
    "### Handling categorical values"
   ]
  },
  {
   "cell_type": "code",
   "execution_count": 10,
   "metadata": {
    "collapsed": true
   },
   "outputs": [],
   "source": [
    "def is_categorical(col):\n",
    "    return col.dtype.name == 'object'"
   ]
  },
  {
   "cell_type": "code",
   "execution_count": 11,
   "metadata": {
    "collapsed": true
   },
   "outputs": [],
   "source": [
    "def prepare_data(dataframe):\n",
    "    for i in range(dataframe.shape[1]):\n",
    "        if(is_categorical(dataframe[i])):\n",
    "            dataframe[i] = dataframe[i].astype('category')\n",
    "            dataframe[i] = dataframe[i].cat.codes\n",
    "    #dataframe = pd.DataFrame(preprocessing.normalize(dataframe))\n",
    "    return dataframe"
   ]
  },
  {
   "cell_type": "markdown",
   "metadata": {},
   "source": [
    "### Cross-validation"
   ]
  },
  {
   "cell_type": "code",
   "execution_count": 12,
   "metadata": {
    "collapsed": true
   },
   "outputs": [],
   "source": [
    "def split_train_test(dataframe,fold_no):\n",
    "    length = int(len(dataframe)/10)\n",
    "    test = pd.DataFrame(dataframe,index=range(fold_no*length,fold_no*length + length))\n",
    "    train = dataframe.loc[~dataframe.index.isin(test.index)]\n",
    "    return train,test   "
   ]
  },
  {
   "cell_type": "code",
   "execution_count": 13,
   "metadata": {},
   "outputs": [
    {
     "data": {
      "text/html": [
       "<div>\n",
       "<style>\n",
       "    .dataframe thead tr:only-child th {\n",
       "        text-align: right;\n",
       "    }\n",
       "\n",
       "    .dataframe thead th {\n",
       "        text-align: left;\n",
       "    }\n",
       "\n",
       "    .dataframe tbody tr th {\n",
       "        vertical-align: top;\n",
       "    }\n",
       "</style>\n",
       "<table border=\"1\" class=\"dataframe\">\n",
       "  <thead>\n",
       "    <tr style=\"text-align: right;\">\n",
       "      <th></th>\n",
       "      <th>0</th>\n",
       "      <th>1</th>\n",
       "      <th>2</th>\n",
       "      <th>3</th>\n",
       "      <th>4</th>\n",
       "      <th>5</th>\n",
       "      <th>6</th>\n",
       "      <th>7</th>\n",
       "      <th>8</th>\n",
       "      <th>9</th>\n",
       "      <th>...</th>\n",
       "      <th>21</th>\n",
       "      <th>22</th>\n",
       "      <th>23</th>\n",
       "      <th>24</th>\n",
       "      <th>25</th>\n",
       "      <th>26</th>\n",
       "      <th>27</th>\n",
       "      <th>28</th>\n",
       "      <th>29</th>\n",
       "      <th>30</th>\n",
       "    </tr>\n",
       "  </thead>\n",
       "  <tbody>\n",
       "    <tr>\n",
       "      <th>0</th>\n",
       "      <td>20.13</td>\n",
       "      <td>28.25</td>\n",
       "      <td>131.20</td>\n",
       "      <td>1261.0</td>\n",
       "      <td>0.0978</td>\n",
       "      <td>0.1034</td>\n",
       "      <td>0.14400</td>\n",
       "      <td>0.09791</td>\n",
       "      <td>0.1752</td>\n",
       "      <td>0.05533</td>\n",
       "      <td>...</td>\n",
       "      <td>38.25</td>\n",
       "      <td>155.00</td>\n",
       "      <td>1731.0</td>\n",
       "      <td>0.1166</td>\n",
       "      <td>0.1922</td>\n",
       "      <td>0.3215</td>\n",
       "      <td>0.16280</td>\n",
       "      <td>0.2572</td>\n",
       "      <td>0.06637</td>\n",
       "      <td>1</td>\n",
       "    </tr>\n",
       "    <tr>\n",
       "      <th>1</th>\n",
       "      <td>12.45</td>\n",
       "      <td>15.70</td>\n",
       "      <td>82.57</td>\n",
       "      <td>477.1</td>\n",
       "      <td>0.1278</td>\n",
       "      <td>0.1700</td>\n",
       "      <td>0.15780</td>\n",
       "      <td>0.08089</td>\n",
       "      <td>0.2087</td>\n",
       "      <td>0.07613</td>\n",
       "      <td>...</td>\n",
       "      <td>23.75</td>\n",
       "      <td>103.40</td>\n",
       "      <td>741.6</td>\n",
       "      <td>0.1791</td>\n",
       "      <td>0.5249</td>\n",
       "      <td>0.5355</td>\n",
       "      <td>0.17410</td>\n",
       "      <td>0.3985</td>\n",
       "      <td>0.12440</td>\n",
       "      <td>1</td>\n",
       "    </tr>\n",
       "    <tr>\n",
       "      <th>2</th>\n",
       "      <td>11.26</td>\n",
       "      <td>19.96</td>\n",
       "      <td>73.72</td>\n",
       "      <td>394.1</td>\n",
       "      <td>0.0802</td>\n",
       "      <td>0.1181</td>\n",
       "      <td>0.09274</td>\n",
       "      <td>0.05588</td>\n",
       "      <td>0.2595</td>\n",
       "      <td>0.06233</td>\n",
       "      <td>...</td>\n",
       "      <td>22.33</td>\n",
       "      <td>78.27</td>\n",
       "      <td>437.6</td>\n",
       "      <td>0.1028</td>\n",
       "      <td>0.1843</td>\n",
       "      <td>0.1546</td>\n",
       "      <td>0.09314</td>\n",
       "      <td>0.2955</td>\n",
       "      <td>0.07009</td>\n",
       "      <td>0</td>\n",
       "    </tr>\n",
       "  </tbody>\n",
       "</table>\n",
       "<p>3 rows × 31 columns</p>\n",
       "</div>"
      ],
      "text/plain": [
       "      0      1       2       3       4       5        6        7       8   \\\n",
       "0  20.13  28.25  131.20  1261.0  0.0978  0.1034  0.14400  0.09791  0.1752   \n",
       "1  12.45  15.70   82.57   477.1  0.1278  0.1700  0.15780  0.08089  0.2087   \n",
       "2  11.26  19.96   73.72   394.1  0.0802  0.1181  0.09274  0.05588  0.2595   \n",
       "\n",
       "        9  ...     21      22      23      24      25      26       27  \\\n",
       "0  0.05533 ...  38.25  155.00  1731.0  0.1166  0.1922  0.3215  0.16280   \n",
       "1  0.07613 ...  23.75  103.40   741.6  0.1791  0.5249  0.5355  0.17410   \n",
       "2  0.06233 ...  22.33   78.27   437.6  0.1028  0.1843  0.1546  0.09314   \n",
       "\n",
       "       28       29  30  \n",
       "0  0.2572  0.06637   1  \n",
       "1  0.3985  0.12440   1  \n",
       "2  0.2955  0.07009   0  \n",
       "\n",
       "[3 rows x 31 columns]"
      ]
     },
     "execution_count": 13,
     "metadata": {},
     "output_type": "execute_result"
    }
   ],
   "source": [
    "data_set.head(3)"
   ]
  },
  {
   "cell_type": "code",
   "execution_count": 14,
   "metadata": {
    "collapsed": true
   },
   "outputs": [],
   "source": [
    "data_set = prepare_data(data_set)"
   ]
  },
  {
   "cell_type": "code",
   "execution_count": 15,
   "metadata": {},
   "outputs": [
    {
     "data": {
      "text/html": [
       "<div>\n",
       "<style>\n",
       "    .dataframe thead tr:only-child th {\n",
       "        text-align: right;\n",
       "    }\n",
       "\n",
       "    .dataframe thead th {\n",
       "        text-align: left;\n",
       "    }\n",
       "\n",
       "    .dataframe tbody tr th {\n",
       "        vertical-align: top;\n",
       "    }\n",
       "</style>\n",
       "<table border=\"1\" class=\"dataframe\">\n",
       "  <thead>\n",
       "    <tr style=\"text-align: right;\">\n",
       "      <th></th>\n",
       "      <th>0</th>\n",
       "      <th>1</th>\n",
       "      <th>2</th>\n",
       "      <th>3</th>\n",
       "      <th>4</th>\n",
       "      <th>5</th>\n",
       "      <th>6</th>\n",
       "      <th>7</th>\n",
       "      <th>8</th>\n",
       "      <th>9</th>\n",
       "      <th>...</th>\n",
       "      <th>21</th>\n",
       "      <th>22</th>\n",
       "      <th>23</th>\n",
       "      <th>24</th>\n",
       "      <th>25</th>\n",
       "      <th>26</th>\n",
       "      <th>27</th>\n",
       "      <th>28</th>\n",
       "      <th>29</th>\n",
       "      <th>30</th>\n",
       "    </tr>\n",
       "  </thead>\n",
       "  <tbody>\n",
       "    <tr>\n",
       "      <th>0</th>\n",
       "      <td>20.13</td>\n",
       "      <td>28.25</td>\n",
       "      <td>131.20</td>\n",
       "      <td>1261.0</td>\n",
       "      <td>0.0978</td>\n",
       "      <td>0.1034</td>\n",
       "      <td>0.14400</td>\n",
       "      <td>0.09791</td>\n",
       "      <td>0.1752</td>\n",
       "      <td>0.05533</td>\n",
       "      <td>...</td>\n",
       "      <td>38.25</td>\n",
       "      <td>155.00</td>\n",
       "      <td>1731.0</td>\n",
       "      <td>0.1166</td>\n",
       "      <td>0.1922</td>\n",
       "      <td>0.3215</td>\n",
       "      <td>0.16280</td>\n",
       "      <td>0.2572</td>\n",
       "      <td>0.06637</td>\n",
       "      <td>1</td>\n",
       "    </tr>\n",
       "    <tr>\n",
       "      <th>1</th>\n",
       "      <td>12.45</td>\n",
       "      <td>15.70</td>\n",
       "      <td>82.57</td>\n",
       "      <td>477.1</td>\n",
       "      <td>0.1278</td>\n",
       "      <td>0.1700</td>\n",
       "      <td>0.15780</td>\n",
       "      <td>0.08089</td>\n",
       "      <td>0.2087</td>\n",
       "      <td>0.07613</td>\n",
       "      <td>...</td>\n",
       "      <td>23.75</td>\n",
       "      <td>103.40</td>\n",
       "      <td>741.6</td>\n",
       "      <td>0.1791</td>\n",
       "      <td>0.5249</td>\n",
       "      <td>0.5355</td>\n",
       "      <td>0.17410</td>\n",
       "      <td>0.3985</td>\n",
       "      <td>0.12440</td>\n",
       "      <td>1</td>\n",
       "    </tr>\n",
       "    <tr>\n",
       "      <th>2</th>\n",
       "      <td>11.26</td>\n",
       "      <td>19.96</td>\n",
       "      <td>73.72</td>\n",
       "      <td>394.1</td>\n",
       "      <td>0.0802</td>\n",
       "      <td>0.1181</td>\n",
       "      <td>0.09274</td>\n",
       "      <td>0.05588</td>\n",
       "      <td>0.2595</td>\n",
       "      <td>0.06233</td>\n",
       "      <td>...</td>\n",
       "      <td>22.33</td>\n",
       "      <td>78.27</td>\n",
       "      <td>437.6</td>\n",
       "      <td>0.1028</td>\n",
       "      <td>0.1843</td>\n",
       "      <td>0.1546</td>\n",
       "      <td>0.09314</td>\n",
       "      <td>0.2955</td>\n",
       "      <td>0.07009</td>\n",
       "      <td>0</td>\n",
       "    </tr>\n",
       "  </tbody>\n",
       "</table>\n",
       "<p>3 rows × 31 columns</p>\n",
       "</div>"
      ],
      "text/plain": [
       "      0      1       2       3       4       5        6        7       8   \\\n",
       "0  20.13  28.25  131.20  1261.0  0.0978  0.1034  0.14400  0.09791  0.1752   \n",
       "1  12.45  15.70   82.57   477.1  0.1278  0.1700  0.15780  0.08089  0.2087   \n",
       "2  11.26  19.96   73.72   394.1  0.0802  0.1181  0.09274  0.05588  0.2595   \n",
       "\n",
       "        9  ...     21      22      23      24      25      26       27  \\\n",
       "0  0.05533 ...  38.25  155.00  1731.0  0.1166  0.1922  0.3215  0.16280   \n",
       "1  0.07613 ...  23.75  103.40   741.6  0.1791  0.5249  0.5355  0.17410   \n",
       "2  0.06233 ...  22.33   78.27   437.6  0.1028  0.1843  0.1546  0.09314   \n",
       "\n",
       "       28       29  30  \n",
       "0  0.2572  0.06637   1  \n",
       "1  0.3985  0.12440   1  \n",
       "2  0.2955  0.07009   0  \n",
       "\n",
       "[3 rows x 31 columns]"
      ]
     },
     "execution_count": 15,
     "metadata": {},
     "output_type": "execute_result"
    }
   ],
   "source": [
    "data_set.head(3)"
   ]
  },
  {
   "cell_type": "code",
   "execution_count": 16,
   "metadata": {},
   "outputs": [
    {
     "data": {
      "text/plain": [
       "31"
      ]
     },
     "execution_count": 16,
     "metadata": {},
     "output_type": "execute_result"
    }
   ],
   "source": [
    "data_set.shape[1]"
   ]
  },
  {
   "cell_type": "markdown",
   "metadata": {},
   "source": [
    "### Pre-processing data"
   ]
  },
  {
   "cell_type": "code",
   "execution_count": 17,
   "metadata": {},
   "outputs": [
    {
     "name": "stdout",
     "output_type": "stream",
     "text": [
      "MinMaxScaler(copy=True, feature_range=(0, 1))\n"
     ]
    }
   ],
   "source": [
    "scaler = MinMaxScaler()\n",
    "print(scaler.fit(data_set))"
   ]
  },
  {
   "cell_type": "code",
   "execution_count": 18,
   "metadata": {},
   "outputs": [
    {
     "data": {
      "text/html": [
       "<div>\n",
       "<style>\n",
       "    .dataframe thead tr:only-child th {\n",
       "        text-align: right;\n",
       "    }\n",
       "\n",
       "    .dataframe thead th {\n",
       "        text-align: left;\n",
       "    }\n",
       "\n",
       "    .dataframe tbody tr th {\n",
       "        vertical-align: top;\n",
       "    }\n",
       "</style>\n",
       "<table border=\"1\" class=\"dataframe\">\n",
       "  <thead>\n",
       "    <tr style=\"text-align: right;\">\n",
       "      <th></th>\n",
       "      <th>0</th>\n",
       "      <th>1</th>\n",
       "      <th>2</th>\n",
       "      <th>3</th>\n",
       "      <th>4</th>\n",
       "      <th>5</th>\n",
       "      <th>6</th>\n",
       "      <th>7</th>\n",
       "      <th>8</th>\n",
       "      <th>9</th>\n",
       "      <th>...</th>\n",
       "      <th>21</th>\n",
       "      <th>22</th>\n",
       "      <th>23</th>\n",
       "      <th>24</th>\n",
       "      <th>25</th>\n",
       "      <th>26</th>\n",
       "      <th>27</th>\n",
       "      <th>28</th>\n",
       "      <th>29</th>\n",
       "      <th>30</th>\n",
       "    </tr>\n",
       "  </thead>\n",
       "  <tbody>\n",
       "    <tr>\n",
       "      <th>0</th>\n",
       "      <td>20.13</td>\n",
       "      <td>28.25</td>\n",
       "      <td>131.20</td>\n",
       "      <td>1261.0</td>\n",
       "      <td>0.0978</td>\n",
       "      <td>0.1034</td>\n",
       "      <td>0.14400</td>\n",
       "      <td>0.09791</td>\n",
       "      <td>0.1752</td>\n",
       "      <td>0.05533</td>\n",
       "      <td>...</td>\n",
       "      <td>38.25</td>\n",
       "      <td>155.00</td>\n",
       "      <td>1731.0</td>\n",
       "      <td>0.1166</td>\n",
       "      <td>0.1922</td>\n",
       "      <td>0.3215</td>\n",
       "      <td>0.16280</td>\n",
       "      <td>0.2572</td>\n",
       "      <td>0.06637</td>\n",
       "      <td>1</td>\n",
       "    </tr>\n",
       "    <tr>\n",
       "      <th>1</th>\n",
       "      <td>12.45</td>\n",
       "      <td>15.70</td>\n",
       "      <td>82.57</td>\n",
       "      <td>477.1</td>\n",
       "      <td>0.1278</td>\n",
       "      <td>0.1700</td>\n",
       "      <td>0.15780</td>\n",
       "      <td>0.08089</td>\n",
       "      <td>0.2087</td>\n",
       "      <td>0.07613</td>\n",
       "      <td>...</td>\n",
       "      <td>23.75</td>\n",
       "      <td>103.40</td>\n",
       "      <td>741.6</td>\n",
       "      <td>0.1791</td>\n",
       "      <td>0.5249</td>\n",
       "      <td>0.5355</td>\n",
       "      <td>0.17410</td>\n",
       "      <td>0.3985</td>\n",
       "      <td>0.12440</td>\n",
       "      <td>1</td>\n",
       "    </tr>\n",
       "    <tr>\n",
       "      <th>2</th>\n",
       "      <td>11.26</td>\n",
       "      <td>19.96</td>\n",
       "      <td>73.72</td>\n",
       "      <td>394.1</td>\n",
       "      <td>0.0802</td>\n",
       "      <td>0.1181</td>\n",
       "      <td>0.09274</td>\n",
       "      <td>0.05588</td>\n",
       "      <td>0.2595</td>\n",
       "      <td>0.06233</td>\n",
       "      <td>...</td>\n",
       "      <td>22.33</td>\n",
       "      <td>78.27</td>\n",
       "      <td>437.6</td>\n",
       "      <td>0.1028</td>\n",
       "      <td>0.1843</td>\n",
       "      <td>0.1546</td>\n",
       "      <td>0.09314</td>\n",
       "      <td>0.2955</td>\n",
       "      <td>0.07009</td>\n",
       "      <td>0</td>\n",
       "    </tr>\n",
       "  </tbody>\n",
       "</table>\n",
       "<p>3 rows × 31 columns</p>\n",
       "</div>"
      ],
      "text/plain": [
       "      0      1       2       3       4       5        6        7       8   \\\n",
       "0  20.13  28.25  131.20  1261.0  0.0978  0.1034  0.14400  0.09791  0.1752   \n",
       "1  12.45  15.70   82.57   477.1  0.1278  0.1700  0.15780  0.08089  0.2087   \n",
       "2  11.26  19.96   73.72   394.1  0.0802  0.1181  0.09274  0.05588  0.2595   \n",
       "\n",
       "        9  ...     21      22      23      24      25      26       27  \\\n",
       "0  0.05533 ...  38.25  155.00  1731.0  0.1166  0.1922  0.3215  0.16280   \n",
       "1  0.07613 ...  23.75  103.40   741.6  0.1791  0.5249  0.5355  0.17410   \n",
       "2  0.06233 ...  22.33   78.27   437.6  0.1028  0.1843  0.1546  0.09314   \n",
       "\n",
       "       28       29  30  \n",
       "0  0.2572  0.06637   1  \n",
       "1  0.3985  0.12440   1  \n",
       "2  0.2955  0.07009   0  \n",
       "\n",
       "[3 rows x 31 columns]"
      ]
     },
     "execution_count": 18,
     "metadata": {},
     "output_type": "execute_result"
    }
   ],
   "source": [
    "data_set.head(3)"
   ]
  },
  {
   "cell_type": "code",
   "execution_count": 19,
   "metadata": {
    "collapsed": true
   },
   "outputs": [],
   "source": [
    "data_set = pd.DataFrame(scaler.transform(data_set))"
   ]
  },
  {
   "cell_type": "markdown",
   "metadata": {},
   "source": [
    "### Remove outliers"
   ]
  },
  {
   "cell_type": "code",
   "execution_count": 20,
   "metadata": {
    "collapsed": true
   },
   "outputs": [],
   "source": [
    "from scipy import stats\n",
    "data_set = data_set[(np.abs(stats.zscore(data_set)) < 3).all(axis=1)]"
   ]
  },
  {
   "cell_type": "code",
   "execution_count": 21,
   "metadata": {
    "collapsed": true
   },
   "outputs": [],
   "source": [
    "zero_prior = data_set[(data_set[data_set.shape[1] - 1] == 0)].shape[0]"
   ]
  },
  {
   "cell_type": "code",
   "execution_count": 22,
   "metadata": {
    "collapsed": true
   },
   "outputs": [],
   "source": [
    "one_prior = data_set[(data_set[data_set.shape[1] - 1] == 1)].shape[0]"
   ]
  },
  {
   "cell_type": "code",
   "execution_count": 23,
   "metadata": {
    "collapsed": true
   },
   "outputs": [],
   "source": [
    "Zero_DataSet = data_set[(data_set[data_set.shape[1] - 1] == 0)]"
   ]
  },
  {
   "cell_type": "code",
   "execution_count": 24,
   "metadata": {
    "collapsed": true
   },
   "outputs": [],
   "source": [
    "One_DataSet = data_set[(data_set[data_set.shape[1] - 1] == 0)]"
   ]
  },
  {
   "cell_type": "code",
   "execution_count": 25,
   "metadata": {
    "collapsed": true
   },
   "outputs": [],
   "source": [
    "zero_prior = zero_prior/data_set.shape[0]"
   ]
  },
  {
   "cell_type": "code",
   "execution_count": 26,
   "metadata": {
    "collapsed": true
   },
   "outputs": [],
   "source": [
    "one_prior = one_prior/data_set.shape[0]"
   ]
  },
  {
   "cell_type": "code",
   "execution_count": 27,
   "metadata": {
    "collapsed": true
   },
   "outputs": [],
   "source": [
    "def get_label(data_point,train):\n",
    "    train_0 = train[(train[train.shape[1] - 1] == 0)].drop([train.shape[1] - 1],axis=1)\n",
    "    train_1 = train[(train[train.shape[1] - 1] == 1)].drop([train.shape[1] - 1],axis=1)\n",
    "    train = train.drop([train.shape[1] - 1],axis=1)\n",
    "    train_0_avg = train_0.apply(lambda x: x.mean()) \n",
    "    train_0_avg = pd.DataFrame(train_0_avg).transpose()\n",
    "    train_1_avg = train_1.apply(lambda x: x.mean())\n",
    "    train_1_avg = pd.DataFrame(train_1_avg).transpose()\n",
    "    train_0_var = train_0.var(axis=0)\n",
    "    train_0_var = pd.DataFrame(train_0_var).transpose()\n",
    "    train_1_var = train_1.var(axis=0)\n",
    "    train_1_var = pd.DataFrame(train_1_var).transpose()\n",
    "    data_point = data_point.drop([data_point.shape[1] - 1],axis=1)\n",
    "    zero_descriptor_posterior = 1.0\n",
    "    one_descriptor_posterior = 1.0\n",
    "    for i in range(train_0_avg.shape[1]):\n",
    "        #print(train_0_avg[i].iloc[0])\n",
    "        exp_upper = (data_point[i].iloc[0]-train_0_avg[i].iloc[0]) * (data_point[i].iloc[0]-train_0_avg[i].iloc[0])\n",
    "        exp_lower = (2*train_0_var[i].iloc[0])\n",
    "        math_sqrt = (math.sqrt(2*math.pi*train_0_var[i]))\n",
    "        #print(math_sqrt,np.exp(exp_upper/exp_lower))\n",
    "        if(np.isnan(exp_upper) or np.isnan(exp_lower)):\n",
    "            continue\n",
    "        zero_descriptor_posterior = (zero_descriptor_posterior/math_sqrt) * np.exp((-exp_upper)/exp_lower)\n",
    "    for i in range(train_1_avg.shape[1]):  \n",
    "        exp_upper = pow((data_point[i].iloc[0]-train_1_avg[i].iloc[0]),2)\n",
    "        exp_lower = (2*train_1_var[i].iloc[0])\n",
    "        math_sqrt = (math.sqrt(2*math.pi*train_1_var[i]))\n",
    "        #print(math_sqrt,np.exp(exp_upper/exp_lower))\n",
    "        if(np.isnan(exp_upper) or np.isnan(exp_lower)):\n",
    "            continue\n",
    "        one_descriptor_posterior = (one_descriptor_posterior/math_sqrt) * np.exp((-exp_upper)/exp_lower)\n",
    "    zero_posterior =  zero_prior * zero_descriptor_posterior\n",
    "    one_posterior = one_prior * one_descriptor_posterior\n",
    "    #print(zero_descriptor_posterior,one_descriptor_posterior)\n",
    "    if(float(zero_posterior) > float(one_posterior)):\n",
    "        return 0\n",
    "    else:\n",
    "        return 1        "
   ]
  },
  {
   "cell_type": "markdown",
   "metadata": {},
   "source": [
    "Naive Bayes Algorithm"
   ]
  },
  {
   "cell_type": "code",
   "execution_count": 28,
   "metadata": {
    "collapsed": true
   },
   "outputs": [],
   "source": [
    "def Naive_Bayes(dataframe):\n",
    "    dataframe = dataframe.dropna()\n",
    "    num_classes = 2\n",
    "    if ((num_classes % 2) == 0):\n",
    "        i = 1\n",
    "    else:\n",
    "        i = 0\n",
    "    acc = []\n",
    "    pre = []\n",
    "    rec = []\n",
    "    f_mea = []\n",
    "    for fold_no in range(10):\n",
    "        train,test = split_train_test(dataframe,fold_no)\n",
    "        true_positive = 0\n",
    "        true_negative = 0\n",
    "        false_negative = 0\n",
    "        false_positive = 0\n",
    "        for i,data_point in test.iterrows():\n",
    "            data_point = pd.DataFrame(data_point).transpose()\n",
    "            predicted_label = get_label(data_point,train)\n",
    "            if(np.isnan(data_point.iloc[0][data_point.shape[1] - 1])):\n",
    "                continue\n",
    "            if ((predicted_label == 1) and (data_point.iloc[0][data_point.shape[1] - 1] == 1.0)):\n",
    "                true_positive = true_positive + 1\n",
    "            elif ((predicted_label == 0) and (data_point.iloc[0][data_point.shape[1] - 1] == 1.0)):\n",
    "                false_negative = false_negative + 1\n",
    "            elif ((predicted_label == 1) and (data_point.iloc[0][data_point.shape[1] - 1] == 0.0)):\n",
    "                false_positive = false_positive + 1\n",
    "            elif ((predicted_label == 0) and (data_point.iloc[0][data_point.shape[1] - 1] == 0.0)):\n",
    "                true_negative = true_negative + 1\n",
    "        #print(true_positive,false_positive,true_negative,false_negative)\n",
    "        accuracy = (true_positive + true_negative)/ (true_positive + false_negative + false_positive + true_negative)\n",
    "        precision = true_positive/ (true_positive + false_positive)\n",
    "        recall = true_positive/(true_positive + false_negative)\n",
    "        f_measure = (2 * true_positive)/((2 * true_positive) + false_negative + false_positive)\n",
    "        acc.append(accuracy)\n",
    "        pre.append(precision)\n",
    "        rec.append(recall)\n",
    "        f_mea.append(f_measure)\n",
    "        #print(accuracy,precision,recall,f_measure)\n",
    "    print(\"Average accuracy: \",sum(acc)/float(len(acc)))\n",
    "    print(\"Average precision: \",sum(pre)/float(len(pre)))\n",
    "    print(\"Average recall: \",sum(rec)/float(len(rec)))\n",
    "    print(\"Average f_measure: \",sum(f_mea)/float(len(f_mea)))"
   ]
  },
  {
   "cell_type": "code",
   "execution_count": 29,
   "metadata": {},
   "outputs": [
    {
     "name": "stdout",
     "output_type": "stream",
     "text": [
      "Average accuracy:  0.9487879308743571\n",
      "Average precision:  0.9333103171338466\n",
      "Average recall:  0.9138730876966171\n",
      "Average f_measure:  0.9211718281033034\n"
     ]
    }
   ],
   "source": [
    "Naive_Bayes(data_set)"
   ]
  },
  {
   "cell_type": "code",
   "execution_count": null,
   "metadata": {
    "collapsed": true
   },
   "outputs": [],
   "source": []
  }
 ],
 "metadata": {
  "kernelspec": {
   "display_name": "Python 3",
   "language": "python",
   "name": "python3"
  },
  "language_info": {
   "codemirror_mode": {
    "name": "ipython",
    "version": 3
   },
   "file_extension": ".py",
   "mimetype": "text/x-python",
   "name": "python",
   "nbconvert_exporter": "python",
   "pygments_lexer": "ipython3",
   "version": "3.6.3"
  }
 },
 "nbformat": 4,
 "nbformat_minor": 2
}
