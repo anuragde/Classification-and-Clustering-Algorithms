{
 "cells": [
  {
   "cell_type": "code",
   "execution_count": 346,
   "metadata": {
    "collapsed": true
   },
   "outputs": [],
   "source": [
    "import pandas as pd\n",
    "import math"
   ]
  },
  {
   "cell_type": "code",
   "execution_count": 347,
   "metadata": {
    "collapsed": true
   },
   "outputs": [],
   "source": [
    "from sklearn import preprocessing\n",
    "from sklearn.preprocessing import MinMaxScaler"
   ]
  },
  {
   "cell_type": "code",
   "execution_count": 510,
   "metadata": {
    "collapsed": true
   },
   "outputs": [],
   "source": [
    "filename = \"project3_dataset2.txt\""
   ]
  },
  {
   "cell_type": "code",
   "execution_count": 511,
   "metadata": {
    "collapsed": true
   },
   "outputs": [],
   "source": [
    "data_set = pd.read_csv(filename,sep = '\\t',header = None,nrows = 1)\n",
    "columns = data_set.columns.tolist()\n",
    "cols_to_use = columns[:len(columns)]\n",
    "default_class_label = pd.read_csv(filename,sep = '\\t',header = None,usecols=columns[len(columns)-1 : ])\n",
    "data_set = pd.read_csv(filename,sep = '\\t',header = None,usecols=cols_to_use)"
   ]
  },
  {
   "cell_type": "code",
   "execution_count": 512,
   "metadata": {},
   "outputs": [
    {
     "data": {
      "text/html": [
       "<div>\n",
       "<style>\n",
       "    .dataframe thead tr:only-child th {\n",
       "        text-align: right;\n",
       "    }\n",
       "\n",
       "    .dataframe thead th {\n",
       "        text-align: left;\n",
       "    }\n",
       "\n",
       "    .dataframe tbody tr th {\n",
       "        vertical-align: top;\n",
       "    }\n",
       "</style>\n",
       "<table border=\"1\" class=\"dataframe\">\n",
       "  <thead>\n",
       "    <tr style=\"text-align: right;\">\n",
       "      <th></th>\n",
       "      <th>0</th>\n",
       "      <th>1</th>\n",
       "      <th>2</th>\n",
       "      <th>3</th>\n",
       "      <th>4</th>\n",
       "      <th>5</th>\n",
       "      <th>6</th>\n",
       "      <th>7</th>\n",
       "      <th>8</th>\n",
       "      <th>9</th>\n",
       "    </tr>\n",
       "  </thead>\n",
       "  <tbody>\n",
       "    <tr>\n",
       "      <th>0</th>\n",
       "      <td>132</td>\n",
       "      <td>6.20</td>\n",
       "      <td>6.47</td>\n",
       "      <td>36.21</td>\n",
       "      <td>Present</td>\n",
       "      <td>62</td>\n",
       "      <td>30.77</td>\n",
       "      <td>14.14</td>\n",
       "      <td>45</td>\n",
       "      <td>0</td>\n",
       "    </tr>\n",
       "    <tr>\n",
       "      <th>1</th>\n",
       "      <td>123</td>\n",
       "      <td>0.05</td>\n",
       "      <td>4.61</td>\n",
       "      <td>13.69</td>\n",
       "      <td>Absent</td>\n",
       "      <td>51</td>\n",
       "      <td>23.23</td>\n",
       "      <td>2.78</td>\n",
       "      <td>16</td>\n",
       "      <td>0</td>\n",
       "    </tr>\n",
       "    <tr>\n",
       "      <th>2</th>\n",
       "      <td>128</td>\n",
       "      <td>0.50</td>\n",
       "      <td>3.70</td>\n",
       "      <td>12.81</td>\n",
       "      <td>Present</td>\n",
       "      <td>66</td>\n",
       "      <td>21.25</td>\n",
       "      <td>22.73</td>\n",
       "      <td>28</td>\n",
       "      <td>0</td>\n",
       "    </tr>\n",
       "  </tbody>\n",
       "</table>\n",
       "</div>"
      ],
      "text/plain": [
       "     0     1     2      3        4   5      6      7   8  9\n",
       "0  132  6.20  6.47  36.21  Present  62  30.77  14.14  45  0\n",
       "1  123  0.05  4.61  13.69   Absent  51  23.23   2.78  16  0\n",
       "2  128  0.50  3.70  12.81  Present  66  21.25  22.73  28  0"
      ]
     },
     "execution_count": 512,
     "metadata": {},
     "output_type": "execute_result"
    }
   ],
   "source": [
    "data_set.head(3)"
   ]
  },
  {
   "cell_type": "code",
   "execution_count": 513,
   "metadata": {},
   "outputs": [
    {
     "data": {
      "text/plain": [
       "462"
      ]
     },
     "execution_count": 513,
     "metadata": {},
     "output_type": "execute_result"
    }
   ],
   "source": [
    "len(data_set)"
   ]
  },
  {
   "cell_type": "markdown",
   "metadata": {},
   "source": [
    "### Handling categorical values"
   ]
  },
  {
   "cell_type": "code",
   "execution_count": 514,
   "metadata": {
    "collapsed": true
   },
   "outputs": [],
   "source": [
    "def prepare_data(dataframe):\n",
    "    dataframe[4] = dataframe[4].astype('category')\n",
    "    dataframe[4] = dataframe[4].cat.codes\n",
    "    #dataframe = pd.DataFrame(preprocessing.normalize(dataframe))\n",
    "    return dataframe\n",
    "    "
   ]
  },
  {
   "cell_type": "markdown",
   "metadata": {},
   "source": [
    "### Cross-validation"
   ]
  },
  {
   "cell_type": "code",
   "execution_count": 515,
   "metadata": {
    "collapsed": true
   },
   "outputs": [],
   "source": [
    "def split_train_test(k,dataframe,fold_no):\n",
    "    length = int(len(dataframe)/10)\n",
    "    test = pd.DataFrame(dataframe,index=range(fold_no*length,fold_no*length + length))\n",
    "    train = dataframe.loc[~dataframe.index.isin(test.index)]\n",
    "    return train,test   "
   ]
  },
  {
   "cell_type": "code",
   "execution_count": 516,
   "metadata": {},
   "outputs": [
    {
     "data": {
      "text/html": [
       "<div>\n",
       "<style>\n",
       "    .dataframe thead tr:only-child th {\n",
       "        text-align: right;\n",
       "    }\n",
       "\n",
       "    .dataframe thead th {\n",
       "        text-align: left;\n",
       "    }\n",
       "\n",
       "    .dataframe tbody tr th {\n",
       "        vertical-align: top;\n",
       "    }\n",
       "</style>\n",
       "<table border=\"1\" class=\"dataframe\">\n",
       "  <thead>\n",
       "    <tr style=\"text-align: right;\">\n",
       "      <th></th>\n",
       "      <th>0</th>\n",
       "      <th>1</th>\n",
       "      <th>2</th>\n",
       "      <th>3</th>\n",
       "      <th>4</th>\n",
       "      <th>5</th>\n",
       "      <th>6</th>\n",
       "      <th>7</th>\n",
       "      <th>8</th>\n",
       "      <th>9</th>\n",
       "    </tr>\n",
       "  </thead>\n",
       "  <tbody>\n",
       "    <tr>\n",
       "      <th>0</th>\n",
       "      <td>132</td>\n",
       "      <td>6.20</td>\n",
       "      <td>6.47</td>\n",
       "      <td>36.21</td>\n",
       "      <td>Present</td>\n",
       "      <td>62</td>\n",
       "      <td>30.77</td>\n",
       "      <td>14.14</td>\n",
       "      <td>45</td>\n",
       "      <td>0</td>\n",
       "    </tr>\n",
       "    <tr>\n",
       "      <th>1</th>\n",
       "      <td>123</td>\n",
       "      <td>0.05</td>\n",
       "      <td>4.61</td>\n",
       "      <td>13.69</td>\n",
       "      <td>Absent</td>\n",
       "      <td>51</td>\n",
       "      <td>23.23</td>\n",
       "      <td>2.78</td>\n",
       "      <td>16</td>\n",
       "      <td>0</td>\n",
       "    </tr>\n",
       "    <tr>\n",
       "      <th>2</th>\n",
       "      <td>128</td>\n",
       "      <td>0.50</td>\n",
       "      <td>3.70</td>\n",
       "      <td>12.81</td>\n",
       "      <td>Present</td>\n",
       "      <td>66</td>\n",
       "      <td>21.25</td>\n",
       "      <td>22.73</td>\n",
       "      <td>28</td>\n",
       "      <td>0</td>\n",
       "    </tr>\n",
       "  </tbody>\n",
       "</table>\n",
       "</div>"
      ],
      "text/plain": [
       "     0     1     2      3        4   5      6      7   8  9\n",
       "0  132  6.20  6.47  36.21  Present  62  30.77  14.14  45  0\n",
       "1  123  0.05  4.61  13.69   Absent  51  23.23   2.78  16  0\n",
       "2  128  0.50  3.70  12.81  Present  66  21.25  22.73  28  0"
      ]
     },
     "execution_count": 516,
     "metadata": {},
     "output_type": "execute_result"
    }
   ],
   "source": [
    "data_set.head(3)"
   ]
  },
  {
   "cell_type": "code",
   "execution_count": 517,
   "metadata": {
    "collapsed": true
   },
   "outputs": [],
   "source": [
    "data_set = prepare_data(data_set)"
   ]
  },
  {
   "cell_type": "code",
   "execution_count": 518,
   "metadata": {},
   "outputs": [
    {
     "data": {
      "text/html": [
       "<div>\n",
       "<style>\n",
       "    .dataframe thead tr:only-child th {\n",
       "        text-align: right;\n",
       "    }\n",
       "\n",
       "    .dataframe thead th {\n",
       "        text-align: left;\n",
       "    }\n",
       "\n",
       "    .dataframe tbody tr th {\n",
       "        vertical-align: top;\n",
       "    }\n",
       "</style>\n",
       "<table border=\"1\" class=\"dataframe\">\n",
       "  <thead>\n",
       "    <tr style=\"text-align: right;\">\n",
       "      <th></th>\n",
       "      <th>0</th>\n",
       "      <th>1</th>\n",
       "      <th>2</th>\n",
       "      <th>3</th>\n",
       "      <th>4</th>\n",
       "      <th>5</th>\n",
       "      <th>6</th>\n",
       "      <th>7</th>\n",
       "      <th>8</th>\n",
       "      <th>9</th>\n",
       "    </tr>\n",
       "  </thead>\n",
       "  <tbody>\n",
       "    <tr>\n",
       "      <th>0</th>\n",
       "      <td>132</td>\n",
       "      <td>6.20</td>\n",
       "      <td>6.47</td>\n",
       "      <td>36.21</td>\n",
       "      <td>1</td>\n",
       "      <td>62</td>\n",
       "      <td>30.77</td>\n",
       "      <td>14.14</td>\n",
       "      <td>45</td>\n",
       "      <td>0</td>\n",
       "    </tr>\n",
       "    <tr>\n",
       "      <th>1</th>\n",
       "      <td>123</td>\n",
       "      <td>0.05</td>\n",
       "      <td>4.61</td>\n",
       "      <td>13.69</td>\n",
       "      <td>0</td>\n",
       "      <td>51</td>\n",
       "      <td>23.23</td>\n",
       "      <td>2.78</td>\n",
       "      <td>16</td>\n",
       "      <td>0</td>\n",
       "    </tr>\n",
       "    <tr>\n",
       "      <th>2</th>\n",
       "      <td>128</td>\n",
       "      <td>0.50</td>\n",
       "      <td>3.70</td>\n",
       "      <td>12.81</td>\n",
       "      <td>1</td>\n",
       "      <td>66</td>\n",
       "      <td>21.25</td>\n",
       "      <td>22.73</td>\n",
       "      <td>28</td>\n",
       "      <td>0</td>\n",
       "    </tr>\n",
       "  </tbody>\n",
       "</table>\n",
       "</div>"
      ],
      "text/plain": [
       "     0     1     2      3  4   5      6      7   8  9\n",
       "0  132  6.20  6.47  36.21  1  62  30.77  14.14  45  0\n",
       "1  123  0.05  4.61  13.69  0  51  23.23   2.78  16  0\n",
       "2  128  0.50  3.70  12.81  1  66  21.25  22.73  28  0"
      ]
     },
     "execution_count": 518,
     "metadata": {},
     "output_type": "execute_result"
    }
   ],
   "source": [
    "data_set.head(3)"
   ]
  },
  {
   "cell_type": "code",
   "execution_count": 519,
   "metadata": {},
   "outputs": [
    {
     "data": {
      "text/plain": [
       "10"
      ]
     },
     "execution_count": 519,
     "metadata": {},
     "output_type": "execute_result"
    }
   ],
   "source": [
    "data_set.shape[1]"
   ]
  },
  {
   "cell_type": "markdown",
   "metadata": {},
   "source": [
    "### Pre-processing data"
   ]
  },
  {
   "cell_type": "code",
   "execution_count": 520,
   "metadata": {},
   "outputs": [
    {
     "name": "stdout",
     "output_type": "stream",
     "text": [
      "MinMaxScaler(copy=True, feature_range=(0, 1))\n"
     ]
    }
   ],
   "source": [
    "scaler = MinMaxScaler()\n",
    "print(scaler.fit(data_set))"
   ]
  },
  {
   "cell_type": "code",
   "execution_count": 521,
   "metadata": {},
   "outputs": [
    {
     "data": {
      "text/html": [
       "<div>\n",
       "<style>\n",
       "    .dataframe thead tr:only-child th {\n",
       "        text-align: right;\n",
       "    }\n",
       "\n",
       "    .dataframe thead th {\n",
       "        text-align: left;\n",
       "    }\n",
       "\n",
       "    .dataframe tbody tr th {\n",
       "        vertical-align: top;\n",
       "    }\n",
       "</style>\n",
       "<table border=\"1\" class=\"dataframe\">\n",
       "  <thead>\n",
       "    <tr style=\"text-align: right;\">\n",
       "      <th></th>\n",
       "      <th>0</th>\n",
       "      <th>1</th>\n",
       "      <th>2</th>\n",
       "      <th>3</th>\n",
       "      <th>4</th>\n",
       "      <th>5</th>\n",
       "      <th>6</th>\n",
       "      <th>7</th>\n",
       "      <th>8</th>\n",
       "      <th>9</th>\n",
       "    </tr>\n",
       "  </thead>\n",
       "  <tbody>\n",
       "    <tr>\n",
       "      <th>0</th>\n",
       "      <td>132</td>\n",
       "      <td>6.20</td>\n",
       "      <td>6.47</td>\n",
       "      <td>36.21</td>\n",
       "      <td>1</td>\n",
       "      <td>62</td>\n",
       "      <td>30.77</td>\n",
       "      <td>14.14</td>\n",
       "      <td>45</td>\n",
       "      <td>0</td>\n",
       "    </tr>\n",
       "    <tr>\n",
       "      <th>1</th>\n",
       "      <td>123</td>\n",
       "      <td>0.05</td>\n",
       "      <td>4.61</td>\n",
       "      <td>13.69</td>\n",
       "      <td>0</td>\n",
       "      <td>51</td>\n",
       "      <td>23.23</td>\n",
       "      <td>2.78</td>\n",
       "      <td>16</td>\n",
       "      <td>0</td>\n",
       "    </tr>\n",
       "    <tr>\n",
       "      <th>2</th>\n",
       "      <td>128</td>\n",
       "      <td>0.50</td>\n",
       "      <td>3.70</td>\n",
       "      <td>12.81</td>\n",
       "      <td>1</td>\n",
       "      <td>66</td>\n",
       "      <td>21.25</td>\n",
       "      <td>22.73</td>\n",
       "      <td>28</td>\n",
       "      <td>0</td>\n",
       "    </tr>\n",
       "  </tbody>\n",
       "</table>\n",
       "</div>"
      ],
      "text/plain": [
       "     0     1     2      3  4   5      6      7   8  9\n",
       "0  132  6.20  6.47  36.21  1  62  30.77  14.14  45  0\n",
       "1  123  0.05  4.61  13.69  0  51  23.23   2.78  16  0\n",
       "2  128  0.50  3.70  12.81  1  66  21.25  22.73  28  0"
      ]
     },
     "execution_count": 521,
     "metadata": {},
     "output_type": "execute_result"
    }
   ],
   "source": [
    "data_set.head(3)"
   ]
  },
  {
   "cell_type": "code",
   "execution_count": 522,
   "metadata": {
    "collapsed": true
   },
   "outputs": [],
   "source": [
    "data_set = pd.DataFrame(scaler.transform(data_set))"
   ]
  },
  {
   "cell_type": "code",
   "execution_count": 523,
   "metadata": {
    "collapsed": true
   },
   "outputs": [],
   "source": [
    "from numpy import linalg as LA\n",
    "from scipy.spatial import distance"
   ]
  },
  {
   "cell_type": "code",
   "execution_count": 524,
   "metadata": {},
   "outputs": [],
   "source": [
    "def get_label(k,data_point,train):\n",
    "    train_1 = train.iloc(axis = 0)[:,-1]\n",
    "    label_0 = []\n",
    "    label_1 = []\n",
    "    data_point = data_point.drop([data_point.shape[1] - 1],axis=1)\n",
    "    for i,val in train.iterrows():\n",
    "        train_data_point = pd.DataFrame(val).transpose()\n",
    "        train_data_point_1 = train_data_point.copy()\n",
    "        train_data_point_1 = train_data_point_1.drop([train_data_point_1.shape[1] - 1],axis=1)\n",
    "        dst = distance.euclidean(data_point, train_data_point_1)\n",
    "        if(train_data_point.iloc[0][train_data_point.shape[1] - 1] == 0):\n",
    "            label_0.append(dst)\n",
    "        elif(train_data_point.iloc[0][train_data_point.shape[1] - 1] == 1):\n",
    "            label_1.append(dst)\n",
    "    sorted(label_0)\n",
    "    sorted(label_1)\n",
    "    count = 0\n",
    "    flag_0 = 0\n",
    "    flag_1 = 0\n",
    "    score_0 = 0\n",
    "    score_1 = 0\n",
    "    while count <= k:\n",
    "        if (label_0[flag_0] > label_1[flag_1]):\n",
    "            flag_0 = flag_0 + 1\n",
    "            score_0 = score_0 + (1/(label_0[flag_0]**2))\n",
    "        elif (label_0[flag_0] < label_1[flag_1]):\n",
    "            flag_1 = flag_1 + 1\n",
    "            score_1 = score_1 + (1/(label_1[flag_1]**2))\n",
    "        count = count + 1\n",
    "    if (score_0 > score_1):\n",
    "        return 0\n",
    "    else:\n",
    "        return 1         "
   ]
  },
  {
   "cell_type": "markdown",
   "metadata": {},
   "source": [
    "### K-NN Algorithm"
   ]
  },
  {
   "cell_type": "code",
   "execution_count": 525,
   "metadata": {},
   "outputs": [],
   "source": [
    "def K_NN(dataframe):\n",
    "    num_classes = 2\n",
    "    if ((num_classes % 2) == 0):\n",
    "        i = 1\n",
    "    else:\n",
    "        i = 0\n",
    "    for k in range(i,int(math.sqrt(data_set.shape[0])),2):\n",
    "        if k==0:\n",
    "            continue\n",
    "        print(\"k-value \", k)\n",
    "        for fold_no in range(10):\n",
    "            train,test = split_train_test(k,dataframe,fold_no)\n",
    "            acc = []\n",
    "            pre = []\n",
    "            rec = []\n",
    "            f_mea = []\n",
    "            true_positive = 0\n",
    "            true_negative = 0\n",
    "            false_negative = 0\n",
    "            false_positive = 0\n",
    "            for i,data_point in test.iterrows():\n",
    "                data_point = pd.DataFrame(data_point).transpose()\n",
    "                predicted_label = get_label(k,data_point,train)\n",
    "                if ((predicted_label == 1) and (data_point.iloc[0][data_point.shape[1] - 1] == 1.0)):\n",
    "                    true_positive = true_positive + 1\n",
    "                elif ((predicted_label == 0) and (data_point.iloc[0][data_point.shape[1] - 1] == 1.0)):\n",
    "                    false_negative = false_negative + 1\n",
    "                elif ((predicted_label == 1) and (data_point.iloc[0][data_point.shape[1] - 1] == 0.0)):\n",
    "                    false_positive = false_positive + 1\n",
    "                elif ((predicted_label == 0) and (data_point.iloc[0][data_point.shape[1] - 1] == 0.0)):\n",
    "                    true_negative = true_negative + 1\n",
    "            accuracy = (true_positive + true_negative)/ (true_positive + false_negative + false_positive + true_negative)\n",
    "            precision = true_positive/ (true_positive + false_positive)\n",
    "            recall = true_positive/(true_positive + false_negative)\n",
    "            f_measure = (2 * true_positive)/ ((2 * true_positive) + false_negative + false_positive)\n",
    "            acc.append(accuracy)\n",
    "            pre.append(precision)\n",
    "            rec.append(recall)\n",
    "            f_mea.append(f_measure)\n",
    "        print(\"Average accuracy: \",sum(acc)/float(len(acc)))\n",
    "        print(\"Average precision: \",sum(pre)/float(len(pre)))\n",
    "        print(\"Average recall: \",sum(rec)/float(len(rec)))\n",
    "        print(\"Average f_measure: \",sum(f_mea)/float(len(f_mea)))"
   ]
  },
  {
   "cell_type": "code",
   "execution_count": 526,
   "metadata": {},
   "outputs": [
    {
     "name": "stdout",
     "output_type": "stream",
     "text": [
      "k-value  1\n",
      "Average accuracy:  0.6086956521739131\n",
      "Average precision:  0.4166666666666667\n",
      "Average recall:  0.7142857142857143\n",
      "Average f_measure:  0.5263157894736842\n",
      "k-value  3\n",
      "Average accuracy:  0.5652173913043478\n",
      "Average precision:  0.39285714285714285\n",
      "Average recall:  0.7857142857142857\n",
      "Average f_measure:  0.5238095238095238\n",
      "k-value  5\n",
      "Average accuracy:  0.4782608695652174\n",
      "Average precision:  0.2727272727272727\n",
      "Average recall:  0.42857142857142855\n",
      "Average f_measure:  0.3333333333333333\n",
      "k-value  7\n",
      "Average accuracy:  0.41304347826086957\n",
      "Average precision:  0.25925925925925924\n",
      "Average recall:  0.5\n",
      "Average f_measure:  0.34146341463414637\n",
      "k-value  9\n",
      "Average accuracy:  0.5217391304347826\n",
      "Average precision:  0.3333333333333333\n",
      "Average recall:  0.5714285714285714\n",
      "Average f_measure:  0.42105263157894735\n",
      "k-value  11\n",
      "Average accuracy:  0.5434782608695652\n",
      "Average precision:  0.34782608695652173\n",
      "Average recall:  0.5714285714285714\n",
      "Average f_measure:  0.43243243243243246\n",
      "k-value  13\n",
      "Average accuracy:  0.5434782608695652\n",
      "Average precision:  0.36\n",
      "Average recall:  0.6428571428571429\n",
      "Average f_measure:  0.46153846153846156\n",
      "k-value  15\n",
      "Average accuracy:  0.5869565217391305\n",
      "Average precision:  0.4\n",
      "Average recall:  0.7142857142857143\n",
      "Average f_measure:  0.5128205128205128\n",
      "k-value  17\n",
      "Average accuracy:  0.6086956521739131\n",
      "Average precision:  0.4166666666666667\n",
      "Average recall:  0.7142857142857143\n",
      "Average f_measure:  0.5263157894736842\n",
      "k-value  19\n",
      "Average accuracy:  0.5869565217391305\n",
      "Average precision:  0.4\n",
      "Average recall:  0.7142857142857143\n",
      "Average f_measure:  0.5128205128205128\n"
     ]
    }
   ],
   "source": [
    "K_NN(data_set)"
   ]
  },
  {
   "cell_type": "code",
   "execution_count": null,
   "metadata": {
    "collapsed": true
   },
   "outputs": [],
   "source": []
  },
  {
   "cell_type": "code",
   "execution_count": null,
   "metadata": {
    "collapsed": true
   },
   "outputs": [],
   "source": []
  },
  {
   "cell_type": "code",
   "execution_count": null,
   "metadata": {
    "collapsed": true
   },
   "outputs": [],
   "source": []
  },
  {
   "cell_type": "code",
   "execution_count": null,
   "metadata": {
    "collapsed": true
   },
   "outputs": [],
   "source": []
  }
 ],
 "metadata": {
  "kernelspec": {
   "display_name": "Python 3",
   "language": "python",
   "name": "python3"
  },
  "language_info": {
   "codemirror_mode": {
    "name": "ipython",
    "version": 3
   },
   "file_extension": ".py",
   "mimetype": "text/x-python",
   "name": "python",
   "nbconvert_exporter": "python",
   "pygments_lexer": "ipython3",
   "version": "3.6.3"
  }
 },
 "nbformat": 4,
 "nbformat_minor": 2
}
